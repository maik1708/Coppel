{
 "cells": [
  {
   "cell_type": "raw",
   "metadata": {},
   "source": [
    "╔═══╗                ╔╗ \n",
    "║╔═╗║                ║║ \n",
    "║║ ╚╝╔══╗╔══╗╔══╗╔══╗║║ \n",
    "║║ ╔╗║╔╗║║╔╗║║╔╗║║╔╗║║║ \n",
    "║╚═╝║║╚╝║║╚╝║║╚╝║║║═╣║╚╗\n",
    "╚═══╝╚══╝║╔═╝║╔═╝╚══╝╚═╝\n",
    "         ║║  ║║         \n",
    "         ╚╝  ╚╝         \n"
   ]
  },
  {
   "cell_type": "markdown",
   "metadata": {},
   "source": [
    "<h1><strong>Coppel</strong><br /><strong>Coupon Challenge!</strong></h1>\n",
    "<blockquote><p>Your mission, Mr Phelps, should you choose to accept it,...</p> <footer>Mission Impossible</footer><blockquote>\n"
   ]
  },
  {
   "cell_type": "markdown",
   "metadata": {},
   "source": [
    "<hr>\n",
    "<h2>Contexto</h2>\n",
    "<p>El marketing de descuento y el uso de cupones son técnicas promocionales muy utilizadas para atraer nuevos clientes, retener y mantener/mejorar la lealtad de los clientes existentes. La medición de la propensión de un consumidor al uso de cupones y la predicción del comportamiento de canje son parámetros cruciales para evaluar la efectividad de una campaña de marketing.</p>\n",
    "\n",
    "<p>Las campañas promocionales se envían a través de varios canales, incluidos correos electrónicos, notificaciones, etc. Varias de estas campañas incluyen cupones de descuento que se ofrecen para un producto/gama de productos específicos. Coppel quiere predecir si los clientes canjean los cupones recibidos en todos los canales, lo que permitirá al equipo de marketing de Coppels diseñar con precisión la construcción de cupones y desarrollar estrategias de marketing más precisas y específicas.</p>\n",
    "\n",
    "La data disponible para este challenge contine la siguiente información:\n",
    "<ol>\n",
    "    <li>Detalles demográficos del usuario</li>\n",
    "    <li>Detalles de la campaña y el cupón</li>\n",
    "    <li>Detalles del producto</li>\n",
    "    <li>Transacciones previas</li>\n",
    "</ol><br>\n",
    "\n",
    "<p>Acá tienes el modelo entidad-relación de la data:</p><br>\n",
    "<img src=\"data/Schema.png\" alt=\"Entity Relationship diagram\" width=\"70%\" height=\"70%\" />\n",
    "<h2>La misión</h2><br>\n",
    "Con base en los datos de rendimiento y transacciones anteriores de las últimas 18 campañas, prediga la probabilidad de las próximas 10 campañas en el conjunto de prueba para cada combinación de cupón y cliente, ya sea que el cliente canjee el cupón o no."
   ]
  },
  {
   "cell_type": "markdown",
   "metadata": {},
   "source": [
    "<hr>"
   ]
  },
  {
   "cell_type": "markdown",
   "metadata": {},
   "source": [
    "<h2>Instrucciones</h2>\n",
    "<p>Aquí hay algunas directrices que me gustaría que tuvieras en mente:</p>\n",
    "<ul>\n",
    "    <li>Por favor crea primero una branch usando tu nombre de pila como nombre del branch y trabaja ahí. Este branch lo vas a subir al repo de github y yo lo voy a bajar.</li>\n",
    "    <li>Usa Python v3.x</li>\n",
    "    <li>Puedes usar la librería, framework o cualquier otra herramienta que necesites y que puedas importar en este jupyter notebook</li>\n",
    "</ul>\n",
    "<p>Como todo proyecto de ciencia de datos siempre hay pasos comúnes que se llevan a cabo y aunque esots pueden omitirse o intercambiarse, <b>qué es lo que espero ver?</b></p>\n",
    "<ol>\n",
    "    <li>La forma con la que trabajas y analizas la data</li>\n",
    "    <li>La forma en la que seleccionas y generas nuevas variables</li>\n",
    "    <li>La manera en la que implementas en el modelo</li>\n",
    "    <li>De que forma entrenas el modelo</li>\n",
    "    <li>La manera en la que pruebas y evalúas el modelo</li>    \n",
    "</ol>\n",
    "<br>\n",
    "<h2>Deadline!</h2>\n",
    "Tienes 7 días para realizar el reto (si, los fines de semana cuentan), Si embargo no te stresses demasiado quiero que en este ejercicio me muestres  como abordarías un proyecto de ciencia de datos que te asigne y espero (confío) en que vas a hacerlo por ti mism@ ya que  en la vida real no vas a tener a tu amig@ en la reuniones para que responda por tí. AL finalizar el proyecto ya sea antes o a los 7 días nos reuniremos para que me presentes tu solución\n"
   ]
  },
  {
   "cell_type": "markdown",
   "metadata": {},
   "source": [
    "<blockquote><p>As always, should you or any of your IM Force be caught or killed, the Secretary will disavow any knowledge of your actions. This jupyter notebook will self-destruct in 1 week. Good luck,</p> <footer>—Mission Impossible</footer><blockquote>\n"
   ]
  },
  {
   "cell_type": "code",
   "execution_count": null,
   "metadata": {},
   "outputs": [],
   "source": []
  },
  {
   "cell_type": "code",
   "execution_count": null,
   "metadata": {},
   "outputs": [],
   "source": []
  },
  {
   "cell_type": "code",
   "execution_count": null,
   "metadata": {},
   "outputs": [],
   "source": []
  },
  {
   "cell_type": "code",
   "execution_count": null,
   "metadata": {},
   "outputs": [],
   "source": []
  }
 ],
 "metadata": {
  "kernelspec": {
   "display_name": "py3env",
   "language": "python",
   "name": "py3env"
  },
  "language_info": {
   "codemirror_mode": {
    "name": "ipython",
    "version": 3
   },
   "file_extension": ".py",
   "mimetype": "text/x-python",
   "name": "python",
   "nbconvert_exporter": "python",
   "pygments_lexer": "ipython3",
   "version": "3.9.12"
  },
  "toc": {
   "base_numbering": 1,
   "nav_menu": {},
   "number_sections": true,
   "sideBar": true,
   "skip_h1_title": false,
   "title_cell": "Table of Contents",
   "title_sidebar": "Contents",
   "toc_cell": false,
   "toc_position": {
    "height": "calc(100% - 180px)",
    "left": "10px",
    "top": "150px",
    "width": "213.477px"
   },
   "toc_section_display": true,
   "toc_window_display": true
  }
 },
 "nbformat": 4,
 "nbformat_minor": 4
}
